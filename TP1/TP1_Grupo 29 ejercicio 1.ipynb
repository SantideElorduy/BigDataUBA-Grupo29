{
  "metadata": {
    "kernelspec": {
      "name": "python",
      "display_name": "Python (Pyodide)",
      "language": "python"
    },
    "language_info": {
      "codemirror_mode": {
        "name": "python",
        "version": 3
      },
      "file_extension": ".py",
      "mimetype": "text/x-python",
      "name": "python",
      "nbconvert_exporter": "python",
      "pygments_lexer": "ipython3",
      "version": "3.8"
    },
    "anaconda-cloud": {},
    "colab": {
      "name": "TP1 - Parte 1.ipynb",
      "provenance": []
    }
  },
  "nbformat_minor": 4,
  "nbformat": 4,
  "cells": [
    {
      "cell_type": "markdown",
      "source": "# Big Data y Machine Learning (UBA) -  2025\n\n## Trabajo Práctico 1: Jugando con APIs y WebScraping ",
      "metadata": {
        "collapsed": true,
        "id": "Dh8MkXaG-c9Y",
        "jupyter": {
          "outputs_hidden": true
        }
      }
    },
    {
      "cell_type": "markdown",
      "source": "### Reglas de formato y presentación\n- El trabajo debe estar debidamente documentado comentado (utilizando #) para que tanto los docentes como sus compañeros puedan comprender el código fácilmente.\n\n- El mismo debe ser completado en este Jupyter Notebook y entregado como tal, es decir en un archivo .ipynb\n",
      "metadata": {
        "id": "RhBlm6mZ-c9e"
      }
    },
    {
      "cell_type": "markdown",
      "source": "### Fecha de entrega:\nViernes 4 de Abril a las 13:00 hs",
      "metadata": {
        "id": "ZEjGaa4U-c9g"
      }
    },
    {
      "cell_type": "markdown",
      "source": "### Modalidad de entrega\n- Al finalizar el trabajo práctico deben hacer un último <i>commit</i> en su repositorio de GitHub llamado “Entrega final del tp”. \n- Asegurense de haber creado una carpeta llamada TP1. Este Jupyter Notebook y el correspondiente al TP1 deben estar dentro de esa carpeta.\n- También deben enviar el link de su repositorio -para que pueda ser clonado y corregido- a mi correo 25RO35480961@campus.economicas.uba.ar. Usar de asunto de email <i>\"Big Data - TP 1 - Grupo #\"</i> y nombrar el archivo <i>\"TP1_Grupo #\"</i> donde # es el número de grupo que le fue asignado.\n- La última versión en el repositorio es la que será evaluada. Por lo que es importante que: \n    - No envien el correo hasta no haber terminado y estar seguros de que han hecho el <i>commit y push</i> a la versión final que quieren entregar. \n    - No hagan nuevos <i>push</i> despues de haber entregado su versión final. Esto generaría confusión acerca de que versión es la que quieren que se les corrija.\n- En resumen, la carpeta del repositorio debe incluir:\n    - El codigo\n    - Un documento Word (Parte A) donde esten las figuras y una breve descripción de las mismas.\n    - El excel con los links webscrappeados (Parte B)",
      "metadata": {
        "id": "N9TU2y7E-c9h"
      }
    },
    {
      "cell_type": "markdown",
      "source": "### Parte A",
      "metadata": {}
    },
    {
      "cell_type": "markdown",
      "source": "#### Ejercicio 1 - Jugando con APIs\nUsando la API del Banco Mundial [link](https://wbdata.readthedocs.io/en/stable/) , obtener dos series de indicadores para dos paises a elección en una consulta de búsqueda. Pueden buscar serie de indicadores de su interés.",
      "metadata": {
        "id": "ZXbrPraa-c9i"
      }
    },
    {
      "cell_type": "code",
      "source": "!pip install wbdata\n",
      "metadata": {},
      "outputs": [],
      "execution_count": null
    },
    {
      "cell_type": "code",
      "source": "import wbdata\nimport pandas as pd\nimport matplotlib.pyplot as plt",
      "metadata": {
        "trusted": true
      },
      "outputs": [],
      "execution_count": null
    },
    {
      "cell_type": "code",
      "source": "indicadores = {'TX.VAL.MANF.ZS.UN':'Exportacion_Manufacturas','TX.VAL.FOOD.ZS.UN':'Exportacion_Comida'}\n#TX.VAL.MANF.ZS.UN                Manufactures exports (% of merchandise exports)\n#TX.VAL.FOOD.ZS.UN                Food exports (% of merchandise exports)\n\ndata = wbdata.get_dataframe(indicadores, country=['USA','ARG'])\n\ndf = pd.DataFrame(data=data)",
      "metadata": {
        "trusted": true
      },
      "outputs": [],
      "execution_count": null
    },
    {
      "cell_type": "code",
      "source": "df",
      "metadata": {
        "trusted": true
      },
      "outputs": [],
      "execution_count": null
    },
    {
      "cell_type": "code",
      "source": "# Dejamos índice como columnas\ndf.reset_index(inplace=True)\ndf",
      "metadata": {
        "trusted": true
      },
      "outputs": [],
      "execution_count": null
    },
    {
      "cell_type": "code",
      "source": "print(df[\"date\"].dtype) # no es numérica\ndf_2023 = df[df[\"date\"]==\"2023\"]\ndf_2023",
      "metadata": {
        "trusted": true
      },
      "outputs": [],
      "execution_count": null
    },
    {
      "cell_type": "code",
      "source": "df_2023 = df_2023.set_index([\"country\", \"date\"])\ndf_2023",
      "metadata": {
        "trusted": true
      },
      "outputs": [],
      "execution_count": null
    },
    {
      "cell_type": "markdown",
      "source": "#### Ejercicio 2 - Repaso de Pandas\nRealicen una estadistica descriptiva de ambas series de indicadores comparando los dos países.",
      "metadata": {}
    },
    {
      "cell_type": "code",
      "source": "# Calcular el promedio de cada indicador\npromedio_Manufacturas = df['Exportacion_Manufacturas'].mean()\npromedio_Comida = df['Exportacion_Comida'].mean()\n\n# Mostrar los promedios\nprint(f\"Promedio de Exportación de manufacturas: {promedio_Manufacturas}\")\nprint(f\"Promedio de Exportación de comida: {promedio_Comida}\")",
      "metadata": {
        "trusted": true
      },
      "outputs": [],
      "execution_count": null
    },
    {
      "cell_type": "markdown",
      "source": "#### Ejercicio 3 - Practicando con Matplotlib\nArmen dos gráficos distintos usando la librería Matplotlib (repasen Clase 4). Uno programandolo con el estilo *pyplot* y otro gráfico de estilo *orientada a objetos*",
      "metadata": {}
    },
    {
      "cell_type": "code",
      "source": "# Resolver acá estilo pyplot\n",
      "metadata": {},
      "outputs": [],
      "execution_count": null
    },
    {
      "cell_type": "code",
      "source": "# Resolver acá estilo orientado-objetos \n# Tip: aprovechar este estilo de programar una figura para hacerlo más lindo \n",
      "metadata": {},
      "outputs": [],
      "execution_count": null
    },
    {
      "cell_type": "markdown",
      "source": "### Parte B",
      "metadata": {}
    },
    {
      "cell_type": "markdown",
      "source": "#### Ejercicio 4\nDe la página de noticias del [diario La Nación](https://www.lanacion.com.ar/) o cualquier diario que les interese, utilicen herramientas de web scraping para obtener los **links** de las noticias de la portada. Guarden los links obtenidos en un dataframe y expórtenlo a un archivo de excel.\n\nNota 1: es posible que logren obtener los links a las noticias sin el dominio: \"https://www.lanacion.com.ar/\". De ser así, concatenen el dominio a la ruta del link obtenido, tal que se obtenga un link al que se pueda acceder. Es decir, que las cadenas de caracteres finales tendrán la forma: https://www.lanacion.com.ar/*texto_obtenido*)\n\nNota 2: junto con su entrega, adjunten una captura de la página de noticias al momento de correr su código. Eso servirá al momento de la corrección para verificar que los links obtenidos hacen referencia a las noticias de ese día y hora.",
      "metadata": {}
    },
    {
      "cell_type": "code",
      "source": "# Resolver acá\n",
      "metadata": {},
      "outputs": [],
      "execution_count": null
    }
  ]
}