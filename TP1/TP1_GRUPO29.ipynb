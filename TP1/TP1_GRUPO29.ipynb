{
 "cells": [
  {
   "cell_type": "markdown",
   "metadata": {
    "collapsed": true,
    "id": "Dh8MkXaG-c9Y",
    "jupyter": {
     "outputs_hidden": true
    }
   },
   "source": [
    "# Big Data y Machine Learning (UBA) -  2025\n",
    "\n",
    "## Trabajo Práctico 1: Jugando con APIs y WebScraping "
   ]
  },
  {
   "cell_type": "markdown",
   "metadata": {
    "id": "RhBlm6mZ-c9e"
   },
   "source": [
    "### Reglas de formato y presentación\n",
    "- El trabajo debe estar debidamente documentado comentado (utilizando #) para que tanto los docentes como sus compañeros puedan comprender el código fácilmente.\n",
    "\n",
    "- El mismo debe ser completado en este Jupyter Notebook y entregado como tal, es decir en un archivo .ipynb\n"
   ]
  },
  {
   "cell_type": "markdown",
   "metadata": {
    "id": "ZEjGaa4U-c9g"
   },
   "source": [
    "### Fecha de entrega:\n",
    "Viernes 4 de Abril a las 13:00 hs"
   ]
  },
  {
   "cell_type": "markdown",
   "metadata": {
    "id": "N9TU2y7E-c9h"
   },
   "source": [
    "### Modalidad de entrega\n",
    "- Al finalizar el trabajo práctico deben hacer un último <i>commit</i> en su repositorio de GitHub llamado “Entrega final del tp”. \n",
    "- Asegurense de haber creado una carpeta llamada TP1. Este Jupyter Notebook y el correspondiente al TP1 deben estar dentro de esa carpeta.\n",
    "- También deben enviar el link de su repositorio -para que pueda ser clonado y corregido- a mi correo 25RO35480961@campus.economicas.uba.ar. Usar de asunto de email <i>\"Big Data - TP 1 - Grupo #\"</i> y nombrar el archivo <i>\"TP1_Grupo #\"</i> donde # es el número de grupo que le fue asignado.\n",
    "- La última versión en el repositorio es la que será evaluada. Por lo que es importante que: \n",
    "    - No envien el correo hasta no haber terminado y estar seguros de que han hecho el <i>commit y push</i> a la versión final que quieren entregar. \n",
    "    - No hagan nuevos <i>push</i> despues de haber entregado su versión final. Esto generaría confusión acerca de que versión es la que quieren que se les corrija. "
   ]
  },
  {
   "cell_type": "markdown",
   "metadata": {},
   "source": [
    "### Parte A"
   ]
  },
  {
   "cell_type": "markdown",
   "metadata": {
    "id": "ZXbrPraa-c9i"
   },
   "source": [
    "#### Ejercicio 1\n",
    "Usando la API de Mercado Libre, obtener los ítems de una consulta de búsqueda. Pueden buscar cualquier producto de su interés."
   ]
  },
  {
   "cell_type": "code",
   "execution_count": 6,
   "metadata": {},
   "outputs": [
    {
     "name": "stdout",
     "output_type": "stream",
     "text": [
      "País: Africa Eastern and Southern\n",
      "Año: 2023\n",
      "Valor: 1659.51529015376\n",
      "\n",
      "País: Africa Eastern and Southern\n",
      "Año: 2022\n",
      "Valor: 1628.02452570959\n",
      "\n",
      "País: Africa Eastern and Southern\n",
      "Año: 2021\n",
      "Valor: 1522.59008804972\n",
      "\n",
      "País: Africa Eastern and Southern\n",
      "Año: 2020\n",
      "Valor: 1344.08096192004\n",
      "\n",
      "País: Africa Eastern and Southern\n",
      "Año: 2019\n",
      "Valor: 1493.78044490037\n",
      "\n"
     ]
    }
   ],
   "source": [
    "def buscar_datos(indicador):\n",
    "    url = f\"https://api.worldbank.org/v2/country/all/indicator/{indicador}?format=json\"\n",
    "    response = requests.get(url)\n",
    "\n",
    "    if response.status_code == 200: #200 representa cod de validación correcta \n",
    "        data = response.json()\n",
    "        if len(data) > 1 and \"value\" in data[1][0]:  # Verifica que haya una cadena de datos\n",
    "            for item in data[1][:5]:  # Muestra los primeros 5 resultados\n",
    "                print(f\"País: {item['country']['value']}\")\n",
    "                print(f\"Año: {item['date']}\")\n",
    "                print(f\"Valor: {item['value']}\\n\")\n",
    "        else:\n",
    "            print(\"No hay datos disponibles.\")\n",
    "    else:\n",
    "        print(\"Error en la búsqueda\")\n",
    "\n",
    "# Ejecutar búsqueda con un indicador (Ej: PIB per cápita)\n",
    "buscar_datos(\"NY.GDP.PCAP.CD\")"
   ]
  },
  {
   "cell_type": "markdown",
   "metadata": {},
   "source": [
    "#### Ejercicio 2\n",
    "Guarden los precios de los ítems obtenidos en un dataframe y calculen el precio promedio, el mínimo y el máximo. "
   ]
  },
  {
   "cell_type": "code",
   "execution_count": 5,
   "metadata": {},
   "outputs": [
    {
     "name": "stdout",
     "output_type": "stream",
     "text": [
      "Promedio: 992.9958576194944\n",
      "Mínimo: 463.563181654116\n",
      "Máximo: 1735.58514005394\n"
     ]
    }
   ],
   "source": [
    "import requests\n",
    "import pandas as pd\n",
    "\n",
    "# Obtener datos de la API del Banco Mundial\n",
    "url = \"https://api.worldbank.org/v2/country/all/indicator/NY.GDP.PCAP.CD?format=json\"\n",
    "response = requests.get(url)\n",
    "\n",
    "if response.status_code == 200: # 200 representa cod de validación correcta\n",
    "    data = response.json()\n",
    "    \n",
    "    # Extraer los valores y guardarlos en un DataFrame\n",
    "    valores = [{\"País\": item[\"country\"][\"value\"], \"Año\": item[\"date\"], \"Valor\": item[\"value\"]}\n",
    "               for item in data[1] if item[\"value\"]]\n",
    "\n",
    "    df = pd.DataFrame(valores) # Uso libreria pandas y funcionalidad de dataframe \n",
    "\n",
    "    # Calcular estadísticas básicas\n",
    "    print(\"Promedio:\", df[\"Valor\"].mean()) # Calcula y muestra el promedio\n",
    "    print(\"Mínimo:\", df[\"Valor\"].min()) # Calcula y muestra el mínimo\n",
    "    print(\"Máximo:\", df[\"Valor\"].max()) # Calcula y muestra el máximo\n",
    "\n",
    "else:\n",
    "    print(\"Error en la búsqueda\")\n"
   ]
  },
  {
   "cell_type": "markdown",
   "metadata": {},
   "source": [
    "#### Ejercicio 3\n",
    "Armen un histograma de los precios. ¿Ven algún <i>outlier<i>? \n",
    "Nota: pueden usar la librería de Matplotlib o la de Pandas."
   ]
  },
  {
   "cell_type": "code",
   "execution_count": null,
   "metadata": {},
   "outputs": [],
   "source": [
    "# Resolver acá\n"
   ]
  },
  {
   "cell_type": "markdown",
   "metadata": {},
   "source": [
    "#### Ejercicio 4\n",
    "Realicen alguna consulta adicional utilizando la API de Mercado Libre (debe ser alguna consulta que no se haya visto en clase. Por ejemplo, obtener los ítems de un vendedor en particular, obtener los productos de una categoría u otros). Analicen los resultados y comenten uno o dos que les parezcan interesantes (por ejemplo, precios promedio de los productos de un vendedor, diferencia entre el precio original y actual, si acepta mercado pago para la compra de productos, etc.) "
   ]
  },
  {
   "cell_type": "code",
   "execution_count": null,
   "metadata": {},
   "outputs": [],
   "source": [
    "# Resolver acá\n"
   ]
  },
  {
   "cell_type": "markdown",
   "metadata": {},
   "source": [
    "### Parte B"
   ]
  },
  {
   "cell_type": "markdown",
   "metadata": {},
   "source": [
    "#### Ejercicio 5\n",
    "De la página de noticias del [diario La Nación](https://www.lanacion.com.ar/), utilicen herramientas de web scraping para obtener los links de las noticias de la portada. Guarden los links obtenidos en un dataframe y expórtenlo a un archivo de excel.\n",
    "\n",
    "Nota 1: es posible que logren obtener los links a las noticias sin el dominio: \"https://www.lanacion.com.ar/\". De ser así, concatenen el dominio a la ruta del link obtenido, tal que se obtenga un link al que se pueda acceder. Es decir, que las cadenas de caracteres finales tendrán la forma: https://www.lanacion.com.ar/*texto_obtenido*)\n",
    "\n",
    "Nota 2: junto con su entrega, adjunten una captura de la página de noticias al momento de correr su código. Eso servirá al momento de la corrección para verificar que los links obtenidos hacen referencia a las noticias de ese día y hora."
   ]
  },
  {
   "cell_type": "code",
   "execution_count": null,
   "metadata": {},
   "outputs": [],
   "source": [
    "# Resolver acá\n"
   ]
  }
 ],
 "metadata": {
  "anaconda-cloud": {},
  "colab": {
   "name": "TP1 - Parte 1.ipynb",
   "provenance": []
  },
  "kernelspec": {
   "display_name": "Python 3 (ipykernel)",
   "language": "python",
   "name": "python3"
  },
  "language_info": {
   "codemirror_mode": {
    "name": "ipython",
    "version": 3
   },
   "file_extension": ".py",
   "mimetype": "text/x-python",
   "name": "python",
   "nbconvert_exporter": "python",
   "pygments_lexer": "ipython3",
   "version": "3.12.7"
  }
 },
 "nbformat": 4,
 "nbformat_minor": 4
}
